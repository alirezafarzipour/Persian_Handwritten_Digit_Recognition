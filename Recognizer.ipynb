{
  "cells": [
    {
      "cell_type": "markdown",
      "id": "y9hjXvyDbkX6",
      "metadata": {
        "id": "y9hjXvyDbkX6"
      },
      "source": [
        "## Importing the libraries"
      ]
    },
    {
      "cell_type": "code",
      "execution_count": 2,
      "id": "8f51f2d5",
      "metadata": {
        "id": "8f51f2d5"
      },
      "outputs": [],
      "source": [
        "from HodaDatasetReader import read_hoda_cdb, read_hoda_dataset\n",
        "import tensorflow as tf\n",
        "from tensorflow import keras\n",
        "import matplotlib.pyplot as plt\n",
        "import numpy as np\n",
        "import cv2"
      ]
    },
    {
      "cell_type": "markdown",
      "id": "KwqzuOZZbuTx",
      "metadata": {
        "id": "KwqzuOZZbuTx"
      },
      "source": [
        "## Importing the dataset"
      ]
    },
    {
      "cell_type": "code",
      "execution_count": 3,
      "id": "46b674a6",
      "metadata": {
        "id": "46b674a6"
      },
      "outputs": [],
      "source": [
        "X_train, y_train = read_hoda_dataset(dataset_path='Train 60000.cdb',\n",
        "                                images_height=32,\n",
        "                                images_width=32,\n",
        "                                one_hot=False,\n",
        "                                reshape=True)\n",
        " \n",
        "X_test, y_test = read_hoda_dataset(dataset_path='Test 20000.cdb',\n",
        "                              images_height=32,\n",
        "                              images_width=32,\n",
        "                              one_hot=False,\n",
        "                              reshape=True)\n",
        "\n",
        "X_remaining, y_remaining = read_hoda_dataset(dataset_path='RemainingSamples.cdb',\n",
        "                              images_height=32,\n",
        "                              images_width=32,\n",
        "                              one_hot=False,\n",
        "                              reshape=True)"
      ]
    },
    {
      "cell_type": "markdown",
      "id": "8rDm1xsHcLm7",
      "metadata": {
        "id": "8rDm1xsHcLm7"
      },
      "source": [
        "## Visualising the three sample"
      ]
    },
    {
      "cell_type": "code",
      "execution_count": 4,
      "id": "b27775a0",
      "metadata": {
        "colab": {
          "base_uri": "https://localhost:8080/",
          "height": 227
        },
        "id": "b27775a0",
        "outputId": "ae44a170-793f-42c9-e577-07ac6728dfdf"
      },
      "outputs": [
        {
          "output_type": "display_data",
          "data": {
            "image/png": "[encoded data removed]",
            "text/plain": [
              "<Figure size 1152x216 with 3 Axes>"
            ]
          },
          "metadata": {
            "needs_background": "light"
          }
        }
      ],
      "source": [
        "fig = plt.figure(figsize=(16, 3))\n",
        "fig.add_subplot(1, 3, 1)\n",
        "plt.title('Y_train[ 0 ] = ' + str(y_train[0]))\n",
        "plt.imshow(X_train[0].reshape([32, 32]), cmap='gray')\n",
        "\n",
        "fig.add_subplot(1, 3, 2)\n",
        "plt.title('Y_test[ 0 ] = ' + str(y_test[0]))\n",
        "plt.imshow(X_test[0].reshape([32, 32]), cmap='gray')\n",
        "\n",
        "fig.add_subplot(1, 3, 3)\n",
        "plt.title('y_remaining[ 0 ] = ' + str(y_remaining[0]))\n",
        "plt.imshow(X_remaining[0].reshape([32, 32]), cmap='gray')\n",
        "\n",
        "plt.show()"
      ]
    },
    {
      "cell_type": "markdown",
      "id": "FSkTjjL-cvjt",
      "metadata": {
        "id": "FSkTjjL-cvjt"
      },
      "source": [
        "## Flatten operation "
      ]
    },
    {
      "cell_type": "code",
      "execution_count": 5,
      "id": "b96xhCuJr36o",
      "metadata": {
        "colab": {
          "base_uri": "https://localhost:8080/"
        },
        "id": "b96xhCuJr36o",
        "outputId": "62e85524-9705-4928-b31d-6da06edc2a72"
      },
      "outputs": [
        {
          "output_type": "execute_result",
          "data": {
            "text/plain": [
              "(60000, 1024)"
            ]
          },
          "metadata": {},
          "execution_count": 5
        }
      ],
      "source": [
        "X_train_flattened = X_train.reshape(len(X_train), 32*32)\n",
        "X_test_flattened = X_test.reshape(len(X_test), 32*32)\n",
        "\n",
        "X_train_flattened.shape"
      ]
    },
    {
      "cell_type": "markdown",
      "id": "_Xz5AlNTd1ew",
      "metadata": {
        "id": "_Xz5AlNTd1ew"
      },
      "source": [
        "## Prepare and Fit a model using Keras"
      ]
    },
    {
      "cell_type": "code",
      "execution_count": 6,
      "id": "8ALlUPu5sL23",
      "metadata": {
        "colab": {
          "base_uri": "https://localhost:8080/"
        },
        "id": "8ALlUPu5sL23",
        "outputId": "72f59d10-93f8-4a1b-880e-da9283a20aa4"
      },
      "outputs": [
        {
          "output_type": "stream",
          "name": "stdout",
          "text": [
            "Epoch 1/10\n",
            "1875/1875 [==============================] - 4s 2ms/step - loss: 0.1355 - accuracy: 0.9620\n",
            "Epoch 2/10\n",
            "1875/1875 [==============================] - 3s 2ms/step - loss: 0.0534 - accuracy: 0.9845\n",
            "Epoch 3/10\n",
            "1875/1875 [==============================] - 3s 2ms/step - loss: 0.0341 - accuracy: 0.9895\n",
            "Epoch 4/10\n",
            "1875/1875 [==============================] - 3s 2ms/step - loss: 0.0234 - accuracy: 0.9930\n",
            "Epoch 5/10\n",
            "1875/1875 [==============================] - 3s 2ms/step - loss: 0.0172 - accuracy: 0.9947\n",
            "Epoch 6/10\n",
            "1875/1875 [==============================] - 3s 2ms/step - loss: 0.0115 - accuracy: 0.9966\n",
            "Epoch 7/10\n",
            "1875/1875 [==============================] - 3s 2ms/step - loss: 0.0098 - accuracy: 0.9967\n",
            "Epoch 8/10\n",
            "1875/1875 [==============================] - 3s 2ms/step - loss: 0.0066 - accuracy: 0.9978\n",
            "Epoch 9/10\n",
            "1875/1875 [==============================] - 3s 2ms/step - loss: 0.0058 - accuracy: 0.9981\n",
            "Epoch 10/10\n",
            "1875/1875 [==============================] - 3s 2ms/step - loss: 0.0055 - accuracy: 0.9982\n"
          ]
        },
        {
          "output_type": "execute_result",
          "data": {
            "text/plain": [
              "<keras.callbacks.History at 0x7f4b2d4d6990>"
            ]
          },
          "metadata": {},
          "execution_count": 6
        }
      ],
      "source": [
        "model = keras.Sequential([\n",
        "    keras.layers.Dense(100, input_shape=(1024,), activation='relu'),\n",
        "    keras.layers.Dense(10, activation='sigmoid')])\n",
        "\n",
        "model.compile(optimizer='adam',\n",
        "              loss='sparse_categorical_crossentropy',\n",
        "              metrics=['accuracy'])\n",
        "\n",
        "model.fit(X_train_flattened, y_train, epochs=10)"
      ]
    },
    {
      "cell_type": "markdown",
      "id": "hDKbyd5PfNkA",
      "metadata": {
        "id": "hDKbyd5PfNkA"
      },
      "source": [
        "## Evaluating model using test set"
      ]
    },
    {
      "cell_type": "code",
      "execution_count": 7,
      "id": "ZEHnKynbsceX",
      "metadata": {
        "colab": {
          "base_uri": "https://localhost:8080/"
        },
        "id": "ZEHnKynbsceX",
        "outputId": "719f3a96-b0e2-4a5e-80f2-c6a1440c77ea"
      },
      "outputs": [
        {
          "output_type": "stream",
          "name": "stdout",
          "text": [
            "625/625 [==============================] - 1s 1ms/step - loss: 0.1203 - accuracy: 0.9758\n"
          ]
        },
        {
          "output_type": "execute_result",
          "data": {
            "text/plain": [
              "[0.12028853595256805, 0.9757500290870667]"
            ]
          },
          "metadata": {},
          "execution_count": 7
        }
      ],
      "source": [
        "model.evaluate(X_test_flattened, y_test)\n",
        "# model.evaluate(X_remaining, y_remaining)"
      ]
    },
    {
      "cell_type": "markdown",
      "id": "Y_6_acZAfWqw",
      "metadata": {
        "id": "Y_6_acZAfWqw"
      },
      "source": [
        "## Predicting test lable"
      ]
    },
    {
      "cell_type": "code",
      "execution_count": 8,
      "id": "1rBMC4Lpz57f",
      "metadata": {
        "colab": {
          "base_uri": "https://localhost:8080/"
        },
        "id": "1rBMC4Lpz57f",
        "outputId": "eca25152-c4d9-4a57-d70c-e51b88a064dd"
      },
      "outputs": [
        {
          "output_type": "execute_result",
          "data": {
            "text/plain": [
              "(20000, 10)"
            ]
          },
          "metadata": {},
          "execution_count": 8
        }
      ],
      "source": [
        "y_predicted = model.predict(X_test_flattened)\n",
        "y_predicted.shape"
      ]
    },
    {
      "cell_type": "markdown",
      "id": "NGj1XZH0mbqv",
      "metadata": {
        "id": "NGj1XZH0mbqv"
      },
      "source": [
        "## Funny test"
      ]
    },
    {
      "cell_type": "code",
      "execution_count": 11,
      "id": "x0nwr9nW0Aov",
      "metadata": {
        "colab": {
          "base_uri": "https://localhost:8080/",
          "height": 283
        },
        "id": "x0nwr9nW0Aov",
        "outputId": "c802701e-c905-46ed-eb10-65b3d2823df0"
      },
      "outputs": [
        {
          "output_type": "execute_result",
          "data": {
            "text/plain": [
              "3"
            ]
          },
          "metadata": {},
          "execution_count": 11
        },
        {
          "output_type": "display_data",
          "data": {
            "image/png": "[encoded data removed]",
            "text/plain": [
              "<Figure size 432x288 with 1 Axes>"
            ]
          },
          "metadata": {
            "needs_background": "light"
          }
        }
      ],
      "source": [
        "plt.imshow(X_test[6353].reshape([32,32]))\n",
        "np.argmax(y_predicted[6353])"
      ]
    },
    {
      "cell_type": "markdown",
      "id": "VhMnKIzdjRJq",
      "metadata": {
        "id": "VhMnKIzdjRJq"
      },
      "source": [
        "## Confusionmatrix"
      ]
    },
    {
      "cell_type": "code",
      "execution_count": 12,
      "id": "SQOs5y3NZkAr",
      "metadata": {
        "colab": {
          "base_uri": "https://localhost:8080/"
        },
        "id": "SQOs5y3NZkAr",
        "outputId": "cd809ec9-c771-4d15-c496-66bfa0dc5c51"
      },
      "outputs": [
        {
          "output_type": "execute_result",
          "data": {
            "text/plain": [
              "<tf.Tensor: shape=(10, 10), dtype=int32, numpy=\n",
              "array([[1978,    0,    0,    1,    1,   15,    2,    3,    0,    0],\n",
              "       [   1, 1991,    1,    0,    3,    0,    2,    2,    0,    0],\n",
              "       [   0,    6, 1951,   32,    3,    0,    4,    2,    0,    2],\n",
              "       [   4,    0,   66, 1896,   28,    2,    1,    1,    2,    0],\n",
              "       [   2,    2,   22,   56, 1904,    4,    2,    2,    1,    5],\n",
              "       [   8,    4,    2,    0,   15, 1961,    1,    4,    5,    0],\n",
              "       [   1,    4,    7,    3,    4,    6, 1942,    3,    2,   28],\n",
              "       [   1,    5,   11,    0,    1,    7,    3, 1972,    0,    0],\n",
              "       [   0,    6,    0,    0,    3,   30,    2,    0, 1946,   13],\n",
              "       [   1,   23,    3,    1,    3,    2,   15,    0,    8, 1944]],\n",
              "      dtype=int32)>"
            ]
          },
          "metadata": {},
          "execution_count": 12
        }
      ],
      "source": [
        "y_predicted_labels = [np.argmax(i) for i in y_predicted]\n",
        "confusion_matrix = tf.math.confusion_matrix(labels=y_test,predictions=y_predicted_labels)\n",
        "confusion_matrix"
      ]
    },
    {
      "cell_type": "markdown",
      "id": "uyzqr_xErgPZ",
      "metadata": {
        "id": "uyzqr_xErgPZ"
      },
      "source": [
        "## Confusionmatrix with swabord"
      ]
    },
    {
      "cell_type": "code",
      "execution_count": 13,
      "id": "uAcHB3srrdQp",
      "metadata": {
        "colab": {
          "base_uri": "https://localhost:8080/",
          "height": 459
        },
        "id": "uAcHB3srrdQp",
        "outputId": "200381a1-b11e-47e2-9ea0-0a647eafdd1f"
      },
      "outputs": [
        {
          "output_type": "execute_result",
          "data": {
            "text/plain": [
              "Text(69.0, 0.5, 'Truth')"
            ]
          },
          "metadata": {},
          "execution_count": 13
        },
        {
          "output_type": "display_data",
          "data": {
            "image/png": "[encoded data removed]",
            "text/plain": [
              "<Figure size 720x504 with 2 Axes>"
            ]
          },
          "metadata": {
            "needs_background": "light"
          }
        }
      ],
      "source": [
        "import seaborn as sn\n",
        "plt.figure(figsize = (10,7))\n",
        "sn.heatmap(confusion_matrix, annot=True, fmt='d')\n",
        "plt.xlabel('Predicted')\n",
        "plt.ylabel('Truth')"
      ]
    },
    {
      "cell_type": "markdown",
      "id": "1N1H_RSzmiMg",
      "metadata": {
        "id": "1N1H_RSzmiMg"
      },
      "source": [
        "## Testing model using external sample"
      ]
    },
    {
      "cell_type": "code",
      "execution_count": 14,
      "id": "2DlzrQLH8MCi",
      "metadata": {
        "colab": {
          "base_uri": "https://localhost:8080/",
          "height": 283
        },
        "id": "2DlzrQLH8MCi",
        "outputId": "63f7d71f-7d3c-4113-b244-63c1a2ef35f1"
      },
      "outputs": [
        {
          "output_type": "execute_result",
          "data": {
            "text/plain": [
              "<matplotlib.image.AxesImage at 0x7f4b290b1150>"
            ]
          },
          "metadata": {},
          "execution_count": 14
        },
        {
          "output_type": "display_data",
          "data": {
            "image/png": "[encoded data removed]",
            "text/plain": [
              "<Figure size 432x288 with 1 Axes>"
            ]
          },
          "metadata": {
            "needs_background": "light"
          }
        }
      ],
      "source": [
        "original_img = cv2.imread(\"Test_image/4.jpg\")\n",
        "resized_img = cv2.resize(original_img, (32, 32))\n",
        "\n",
        "resultNot = cv2.bitwise_not(src=resized_img, dst=resized_img)\n",
        "(thresh, blackAndWhiteImage) = cv2.threshold(resultNot, 127, 255, cv2.THRESH_BINARY)\n",
        "_, _, final_result = cv2.split(blackAndWhiteImage)\n",
        "final_result = final_result / 255\n",
        "cv2.cvtColor(blackAndWhiteImage, cv2.COLOR_BGR2RGB)\n",
        "plt.imshow(blackAndWhiteImage,)"
      ]
    },
    {
      "cell_type": "code",
      "execution_count": 15,
      "id": "ocRR7HGBB-YY",
      "metadata": {
        "colab": {
          "base_uri": "https://localhost:8080/"
        },
        "id": "ocRR7HGBB-YY",
        "outputId": "de5d0ee9-2740-430e-f8cc-f6999e57ca1f"
      },
      "outputs": [
        {
          "output_type": "execute_result",
          "data": {
            "text/plain": [
              "4"
            ]
          },
          "metadata": {},
          "execution_count": 15
        }
      ],
      "source": [
        "final_result_flattened = final_result.reshape(1, 32*32)\n",
        "input_y_predicted = model.predict([final_result_flattened])\n",
        "np.argmax(input_y_predicted)"
      ]
    }
  ],
  "metadata": {
    "colab": {
      "collapsed_sections": [],
      "name": "Recognizer.ipynb",
      "provenance": []
    },
    "kernelspec": {
      "display_name": "Python 3",
      "language": "python",
      "name": "python3"
    },
    "language_info": {
      "codemirror_mode": {
        "name": "ipython",
        "version": 3
      },
      "file_extension": ".py",
      "mimetype": "text/x-python",
      "name": "python",
      "nbconvert_exporter": "python",
      "pygments_lexer": "ipython3",
      "version": "3.8.8"
    }
  },
  "nbformat": 4,
  "nbformat_minor": 5
}